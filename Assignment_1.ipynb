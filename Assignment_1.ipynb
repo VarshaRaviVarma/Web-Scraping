{
 "cells": [
  {
   "cell_type": "markdown",
   "id": "383850bc",
   "metadata": {},
   "source": [
    "# WEB SCRAPING - Assignment 1"
   ]
  },
  {
   "cell_type": "markdown",
   "id": "c658516a",
   "metadata": {},
   "source": [
    "## 1) "
   ]
  },
  {
   "cell_type": "code",
   "execution_count": 1,
   "id": "b163588c",
   "metadata": {},
   "outputs": [
    {
     "name": "stdout",
     "output_type": "stream",
     "text": [
      "Enter your username : Levi\n"
     ]
    }
   ],
   "source": [
    "# List of stored usernames\n",
    "username_list = ['Eren','Mikasa','Levi','Armin','Hanji']\n",
    "\n",
    "username = input(\"Enter your username : \")"
   ]
  },
  {
   "cell_type": "code",
   "execution_count": 2,
   "id": "451c6b0c",
   "metadata": {},
   "outputs": [
    {
     "name": "stdout",
     "output_type": "stream",
     "text": [
      "Enter your password : L\n",
      "Wrong password. Please try again.\n",
      "Enter your password : Le\n",
      "Wrong password. Please try again.\n",
      "Enter your password : Lev\n",
      "Alert! 3 failed login attempts. Do you want to reset your password? Yes\n",
      "What is your favorite color? Black\n",
      "What animal do you have as your pet? Dog\n",
      "Which country were you born in? India\n",
      "The answer you provided are not correct. Your account is blocked.\n"
     ]
    }
   ],
   "source": [
    "if username in username_list:\n",
    "    i = 3\n",
    "    while i>0:\n",
    "        password = input(\"Enter your password : \")\n",
    "        if username==password:\n",
    "            print(\"You have successfully logged in.\")\n",
    "            break\n",
    "        elif i>1:\n",
    "            print(\"Wrong password. Please try again.\")\n",
    "        i=i-1\n",
    "    # If the user got all 3 attempts wrong\n",
    "    if i==0:\n",
    "        reset_password = input(\"Alert! 3 failed login attempts. Do you want to reset your password? \")\n",
    "        if reset_password == 'Yes':\n",
    "            # Asking 3 security questions for resetting password\n",
    "            answer1 = input(\"What is your favorite color? \")\n",
    "            if answer1 == 'Black':\n",
    "                answer2 = input(\"What animal do you have as your pet? \")\n",
    "                if answer2 == 'Dog':\n",
    "                    answer3 = input(\"Which country were you born in? \")\n",
    "                    if answer3 == 'USA':\n",
    "                        print(\"You can successfully reset your password now.\")\n",
    "                    else:\n",
    "                        print(\"The answer you provided are not correct. Your account is blocked.\")\n",
    "                else:\n",
    "                    print(\"The answer you provided are not correct. Your account is blocked.\")\n",
    "            else:\n",
    "                print(\"The answer you provided are not correct. Your account is blocked.\")\n",
    "        else:\n",
    "            print(\"Your account has temporarily freezed. Please try again later.\")\n",
    "else: \n",
    "    print(\"The entered username does not exist. Please try again.\")"
   ]
  },
  {
   "cell_type": "markdown",
   "id": "d5d7f27b",
   "metadata": {},
   "source": [
    "## 2) "
   ]
  },
  {
   "cell_type": "code",
   "execution_count": 3,
   "id": "c692af74",
   "metadata": {},
   "outputs": [
    {
     "name": "stdout",
     "output_type": "stream",
     "text": [
      "20\n",
      "19\n",
      "18\n",
      "17\n",
      "16\n",
      "15\n",
      "14\n",
      "13\n",
      "12\n",
      "11\n",
      "10\n",
      "9\n",
      "8\n",
      "7\n",
      "6\n",
      "5\n",
      "4\n",
      "3\n",
      "2\n",
      "1\n",
      "0\n"
     ]
    }
   ],
   "source": [
    "# Generator function\n",
    "def print_n(n):\n",
    "    while n >= 0:\n",
    "        yield n\n",
    "        n -= 1\n",
    "\n",
    "for num in print_n(20):\n",
    "    print(num)"
   ]
  },
  {
   "cell_type": "markdown",
   "id": "74bad9bb",
   "metadata": {},
   "source": [
    "## 3)"
   ]
  },
  {
   "cell_type": "code",
   "execution_count": 4,
   "id": "efb04990",
   "metadata": {},
   "outputs": [
    {
     "data": {
      "text/plain": [
       "'The last element of the list is : 5'"
      ]
     },
     "execution_count": 4,
     "metadata": {},
     "output_type": "execute_result"
    }
   ],
   "source": [
    "# Find the last element of a list\n",
    "def last_element(l):\n",
    "    return(\"The last element of the list is : \" + str(l.pop()))\n",
    "\n",
    "last_element([1,2,3,4,5])"
   ]
  },
  {
   "cell_type": "code",
   "execution_count": 5,
   "id": "82e9260d",
   "metadata": {},
   "outputs": [
    {
     "data": {
      "text/plain": [
       "'The second last element of the list is : 9'"
      ]
     },
     "execution_count": 5,
     "metadata": {},
     "output_type": "execute_result"
    }
   ],
   "source": [
    "# Find the last but one element of a list\n",
    "def second_last_element(l):\n",
    "    length = len(l)\n",
    "    return(\"The second last element of the list is : \" + str(l[length-2]))\n",
    "\n",
    "second_last_element([6,7,8,9,10])"
   ]
  },
  {
   "cell_type": "code",
   "execution_count": 6,
   "id": "5e5fdcb2",
   "metadata": {},
   "outputs": [
    {
     "name": "stdout",
     "output_type": "stream",
     "text": [
      "[11, 12, 13, 12, 11]\n"
     ]
    },
    {
     "data": {
      "text/plain": [
       "'The list is palindrome.'"
      ]
     },
     "execution_count": 6,
     "metadata": {},
     "output_type": "execute_result"
    }
   ],
   "source": [
    "# Find out whether a list is a palindrome\n",
    "def palindrome(l):\n",
    "    l_reversed = list(reversed(l))\n",
    "    print (l_reversed)\n",
    "    if (l == l_reversed):\n",
    "        return (\"The list is palindrome.\")\n",
    "    else:\n",
    "        return (\"The list is not palindrome.\")\n",
    "\n",
    "palindrome([11,12,13,12,11])"
   ]
  },
  {
   "cell_type": "code",
   "execution_count": 7,
   "id": "0d903d44",
   "metadata": {},
   "outputs": [
    {
     "data": {
      "text/plain": [
       "('a', 'b', 'c', 1, 2, 3)"
      ]
     },
     "execution_count": 7,
     "metadata": {},
     "output_type": "execute_result"
    }
   ],
   "source": [
    "# Take two tuples and join them to make a tuple\n",
    "def tuples(t1,t2):\n",
    "    t3 = t1 + t2\n",
    "    return t3\n",
    "\n",
    "tuples((\"a\", \"b\" ,\"c\"),(1, 2, 3))"
   ]
  },
  {
   "cell_type": "code",
   "execution_count": 8,
   "id": "38105e9d",
   "metadata": {},
   "outputs": [
    {
     "data": {
      "text/plain": [
       "[1, 2, 3, 4, 5]"
      ]
     },
     "execution_count": 8,
     "metadata": {},
     "output_type": "execute_result"
    }
   ],
   "source": [
    "# Given a tuple (num_tup = (1,2,3,4,5,6)), convert it to a list and remove the last element\n",
    "def modify(num_tup = (1,2,3,4,5,6)):\n",
    "    num_list = list(num_tup)\n",
    "    num_list.pop()\n",
    "    return num_list\n",
    "\n",
    "modify()"
   ]
  },
  {
   "cell_type": "code",
   "execution_count": 9,
   "id": "6d14f1ee",
   "metadata": {},
   "outputs": [
    {
     "data": {
      "text/plain": [
       "['wow', 'noon']"
      ]
     },
     "execution_count": 9,
     "metadata": {},
     "output_type": "execute_result"
    }
   ],
   "source": [
    "#  Given a list of strings, print all palindrome strings from the list\n",
    "def string_palindrome(l):\n",
    "    results = []\n",
    "    for i in l:\n",
    "        if i == i[::-1]:\n",
    "            results.append(i)\n",
    "    return results\n",
    "\n",
    "string_palindrome(['hello','wow','thanks','noon','greetings'])"
   ]
  },
  {
   "cell_type": "markdown",
   "id": "8da9199d",
   "metadata": {},
   "source": [
    "## 4) "
   ]
  },
  {
   "cell_type": "code",
   "execution_count": 10,
   "id": "e6a6c448",
   "metadata": {},
   "outputs": [
    {
     "name": "stdout",
     "output_type": "stream",
     "text": [
      "<class '__main__.Student'>\n",
      "Keys: dict_keys(['Female', 'Male'])\n",
      "Value: F\n"
     ]
    }
   ],
   "source": [
    "'''\n",
    "Created a class named \"Student\" that takes name and gender attribute. \n",
    "Added and printed the object types using type(). \n",
    "I then accessed the key and value of the module attribute using the keys() and [] respectively and printed it.\n",
    "'''\n",
    "\n",
    "class Student:\n",
    "    def __init__(self, name, gender):\n",
    "        self.name = name\n",
    "        self.gender = gender\n",
    "        self.modules = {\"Female\": \"F\", \"Male\": \"M\"}\n",
    "\n",
    "Student_obj = Student(\"Eren\", \"M\")\n",
    "\n",
    "print(type(Student_obj))\n",
    "\n",
    "print(\"Keys:\",Student_obj.modules.keys())\n",
    "print(\"Value:\",Student_obj.modules['Female'])"
   ]
  }
 ],
 "metadata": {
  "kernelspec": {
   "display_name": "Python 3 (ipykernel)",
   "language": "python",
   "name": "python3"
  },
  "language_info": {
   "codemirror_mode": {
    "name": "ipython",
    "version": 3
   },
   "file_extension": ".py",
   "mimetype": "text/x-python",
   "name": "python",
   "nbconvert_exporter": "python",
   "pygments_lexer": "ipython3",
   "version": "3.9.12"
  }
 },
 "nbformat": 4,
 "nbformat_minor": 5
}
